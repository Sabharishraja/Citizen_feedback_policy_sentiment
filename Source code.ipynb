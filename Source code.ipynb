{
 "cells": [
  {
   "cell_type": "code",
   "execution_count": 0,
   "metadata": {
    "application/vnd.databricks.v1+cell": {
     "cellMetadata": {
      "byteLimit": 2048000,
      "implicitDf": true,
      "rowLimit": 10000
     },
     "inputWidgets": {},
     "nuid": "980e471f-41ca-41c0-a7bf-3c9fdcac9104",
     "showTitle": false,
     "tableResultSettingsMap": {},
     "title": ""
    }
   },
   "outputs": [
    {
     "output_type": "display_data",
     "data": {
      "text/html": [
       "<style scoped>\n",
       "  .table-result-container {\n",
       "    max-height: 300px;\n",
       "    overflow: auto;\n",
       "  }\n",
       "  table, th, td {\n",
       "    border: 1px solid black;\n",
       "    border-collapse: collapse;\n",
       "  }\n",
       "  th, td {\n",
       "    padding: 5px;\n",
       "  }\n",
       "  th {\n",
       "    text-align: left;\n",
       "  }\n",
       "</style><div class='table-result-container'><table class='table-result'><thead style='background-color: white'><tr><th>policy_name</th><th>feedback</th></tr></thead><tbody><tr><td>Education Policy</td><td>The new curriculum is helpful for students.</td></tr><tr><td>Education Policy</td><td>Too much syllabus for one semester.</td></tr><tr><td>Education Policy</td><td>The digital learning approach is innovative.</td></tr><tr><td>Education Policy</td><td>Teachers need more training on the new system.</td></tr><tr><td>Education Policy</td><td>Online classes are well-organized.</td></tr><tr><td>Transport Policy</td><td>Bus timings are inconsistent and late.</td></tr><tr><td>Transport Policy</td><td>Metro connectivity has improved travel time.</td></tr><tr><td>Transport Policy</td><td>Road conditions are poor even after repairs.</td></tr><tr><td>Transport Policy</td><td>Traffic management has become better lately.</td></tr><tr><td>Transport Policy</td><td>More parking spaces are required.</td></tr><tr><td>Health Policy</td><td>Hospitals are cleaner and more efficient now.</td></tr><tr><td>Health Policy</td><td>Waiting times in government hospitals are too long.</td></tr><tr><td>Health Policy</td><td>Free medicines program is very useful.</td></tr><tr><td>Health Policy</td><td>Doctors are not available on weekends.</td></tr><tr><td>Health Policy</td><td>Healthcare centers lack proper facilities.</td></tr><tr><td>Smart City</td><td>Streetlights are functioning properly now.</td></tr><tr><td>Smart City</td><td>Garbage collection has improved.</td></tr><tr><td>Smart City</td><td>Noise pollution has not reduced at all.</td></tr><tr><td>Smart City</td><td>Wi-Fi in public areas is a good initiative.</td></tr><tr><td>Smart City</td><td>Traffic sensors are often malfunctioning.</td></tr><tr><td>Digital India</td><td>Online services are easy to access now.</td></tr><tr><td>Digital India</td><td>Many government websites are still slow.</td></tr><tr><td>Digital India</td><td>E-payments have made life easier.</td></tr><tr><td>Digital India</td><td>Rural areas still lack stable internet.</td></tr><tr><td>Digital India</td><td>Government apps crash frequently.</td></tr><tr><td>Tax Reform</td><td>Tax filing process is smoother now.</td></tr><tr><td>Tax Reform</td><td>Still too many steps for small taxpayers.</td></tr><tr><td>Tax Reform</td><td>Refund process has improved a lot.</td></tr><tr><td>Tax Reform</td><td>Website crashes during deadline week.</td></tr><tr><td>Tax Reform</td><td>Income tax app is very useful.</td></tr><tr><td>Employment Scheme</td><td>Job application portal is user-friendly.</td></tr><tr><td>Employment Scheme</td><td>Not enough job postings for graduates.</td></tr><tr><td>Employment Scheme</td><td>The process of verification is slow.</td></tr><tr><td>Employment Scheme</td><td>Got job offer through the new program.</td></tr><tr><td>Employment Scheme</td><td>Unemployment benefits are too low.</td></tr><tr><td>Housing Policy</td><td>Affordable housing plan is impressive.</td></tr><tr><td>Housing Policy</td><td>Construction delays are frustrating.</td></tr><tr><td>Housing Policy</td><td>Flats are smaller than expected.</td></tr><tr><td>Housing Policy</td><td>Transparency in allocation has improved.</td></tr><tr><td>Housing Policy</td><td>Need more houses in rural areas.</td></tr><tr><td>Water Management</td><td>Water supply is regular and clean.</td></tr><tr><td>Water Management</td><td>Frequent water cuts in the evening.</td></tr><tr><td>Water Management</td><td>Rainwater harvesting awareness has grown.</td></tr><tr><td>Water Management</td><td>Pipelines are leaking in some areas.</td></tr><tr><td>Water Management</td><td>Water conservation campaigns are working.</td></tr><tr><td>Tourism Policy</td><td>Tourist spots have better security now.</td></tr><tr><td>Tourism Policy</td><td>Entry fees for locals are too high.</td></tr><tr><td>Tourism Policy</td><td>Cleanliness at monuments has improved.</td></tr><tr><td>Tourism Policy</td><td>Need better transport to tourist sites.</td></tr><tr><td>Tourism Policy</td><td>Local guides are very helpful and polite.</td></tr></tbody></table></div>"
      ]
     },
     "metadata": {
      "application/vnd.databricks.v1+output": {
       "addedWidgets": {},
       "aggData": [],
       "aggError": "",
       "aggOverflow": false,
       "aggSchema": [],
       "aggSeriesLimitReached": false,
       "aggType": "",
       "arguments": {},
       "columnCustomDisplayInfos": {},
       "data": [
        [
         "Education Policy",
         "The new curriculum is helpful for students."
        ],
        [
         "Education Policy",
         "Too much syllabus for one semester."
        ],
        [
         "Education Policy",
         "The digital learning approach is innovative."
        ],
        [
         "Education Policy",
         "Teachers need more training on the new system."
        ],
        [
         "Education Policy",
         "Online classes are well-organized."
        ],
        [
         "Transport Policy",
         "Bus timings are inconsistent and late."
        ],
        [
         "Transport Policy",
         "Metro connectivity has improved travel time."
        ],
        [
         "Transport Policy",
         "Road conditions are poor even after repairs."
        ],
        [
         "Transport Policy",
         "Traffic management has become better lately."
        ],
        [
         "Transport Policy",
         "More parking spaces are required."
        ],
        [
         "Health Policy",
         "Hospitals are cleaner and more efficient now."
        ],
        [
         "Health Policy",
         "Waiting times in government hospitals are too long."
        ],
        [
         "Health Policy",
         "Free medicines program is very useful."
        ],
        [
         "Health Policy",
         "Doctors are not available on weekends."
        ],
        [
         "Health Policy",
         "Healthcare centers lack proper facilities."
        ],
        [
         "Smart City",
         "Streetlights are functioning properly now."
        ],
        [
         "Smart City",
         "Garbage collection has improved."
        ],
        [
         "Smart City",
         "Noise pollution has not reduced at all."
        ],
        [
         "Smart City",
         "Wi-Fi in public areas is a good initiative."
        ],
        [
         "Smart City",
         "Traffic sensors are often malfunctioning."
        ],
        [
         "Digital India",
         "Online services are easy to access now."
        ],
        [
         "Digital India",
         "Many government websites are still slow."
        ],
        [
         "Digital India",
         "E-payments have made life easier."
        ],
        [
         "Digital India",
         "Rural areas still lack stable internet."
        ],
        [
         "Digital India",
         "Government apps crash frequently."
        ],
        [
         "Tax Reform",
         "Tax filing process is smoother now."
        ],
        [
         "Tax Reform",
         "Still too many steps for small taxpayers."
        ],
        [
         "Tax Reform",
         "Refund process has improved a lot."
        ],
        [
         "Tax Reform",
         "Website crashes during deadline week."
        ],
        [
         "Tax Reform",
         "Income tax app is very useful."
        ],
        [
         "Employment Scheme",
         "Job application portal is user-friendly."
        ],
        [
         "Employment Scheme",
         "Not enough job postings for graduates."
        ],
        [
         "Employment Scheme",
         "The process of verification is slow."
        ],
        [
         "Employment Scheme",
         "Got job offer through the new program."
        ],
        [
         "Employment Scheme",
         "Unemployment benefits are too low."
        ],
        [
         "Housing Policy",
         "Affordable housing plan is impressive."
        ],
        [
         "Housing Policy",
         "Construction delays are frustrating."
        ],
        [
         "Housing Policy",
         "Flats are smaller than expected."
        ],
        [
         "Housing Policy",
         "Transparency in allocation has improved."
        ],
        [
         "Housing Policy",
         "Need more houses in rural areas."
        ],
        [
         "Water Management",
         "Water supply is regular and clean."
        ],
        [
         "Water Management",
         "Frequent water cuts in the evening."
        ],
        [
         "Water Management",
         "Rainwater harvesting awareness has grown."
        ],
        [
         "Water Management",
         "Pipelines are leaking in some areas."
        ],
        [
         "Water Management",
         "Water conservation campaigns are working."
        ],
        [
         "Tourism Policy",
         "Tourist spots have better security now."
        ],
        [
         "Tourism Policy",
         "Entry fees for locals are too high."
        ],
        [
         "Tourism Policy",
         "Cleanliness at monuments has improved."
        ],
        [
         "Tourism Policy",
         "Need better transport to tourist sites."
        ],
        [
         "Tourism Policy",
         "Local guides are very helpful and polite."
        ]
       ],
       "datasetInfos": [
        {
         "name": "_sqldf",
         "schema": {
          "fields": [
           {
            "metadata": {},
            "name": "policy_name",
            "nullable": true,
            "type": "string"
           },
           {
            "metadata": {},
            "name": "feedback",
            "nullable": true,
            "type": "string"
           }
          ],
          "type": "struct"
         },
         "tableIdentifier": null,
         "typeStr": "pyspark.sql.connect.dataframe.DataFrame"
        }
       ],
       "dbfsResultPath": null,
       "isJsonSchema": true,
       "metadata": {
        "createTempViewForImplicitDf": true,
        "dataframeName": "_sqldf",
        "executionCount": 1
       },
       "overflow": false,
       "plotOptions": {
        "customPlotOptions": {},
        "displayType": "table",
        "pivotAggregation": null,
        "pivotColumns": null,
        "xColumns": null,
        "yColumns": null
       },
       "removedWidgets": [],
       "schema": [
        {
         "metadata": "{}",
         "name": "policy_name",
         "type": "\"string\""
        },
        {
         "metadata": "{}",
         "name": "feedback",
         "type": "\"string\""
        }
       ],
       "type": "table"
      }
     },
     "output_type": "display_data"
    }
   ],
   "source": [
    "%sql\n",
    "SELECT * FROM `workspace`.`project`.`citizen_feedback`;"
   ]
  },
  {
   "cell_type": "code",
   "execution_count": 0,
   "metadata": {
    "application/vnd.databricks.v1+cell": {
     "cellMetadata": {
      "byteLimit": 2048000,
      "rowLimit": 10000
     },
     "inputWidgets": {},
     "nuid": "2d2391ae-f446-4d14-9f5c-4039d06d8d73",
     "showTitle": false,
     "tableResultSettingsMap": {},
     "title": ""
    }
   },
   "outputs": [
    {
     "output_type": "display_data",
     "data": {
      "text/html": [
       "<style scoped>\n",
       "  .table-result-container {\n",
       "    max-height: 300px;\n",
       "    overflow: auto;\n",
       "  }\n",
       "  table, th, td {\n",
       "    border: 1px solid black;\n",
       "    border-collapse: collapse;\n",
       "  }\n",
       "  th, td {\n",
       "    padding: 5px;\n",
       "  }\n",
       "  th {\n",
       "    text-align: left;\n",
       "  }\n",
       "</style><div class='table-result-container'><table class='table-result'><thead style='background-color: white'><tr><th>policy_name</th><th>feedback</th></tr></thead><tbody><tr><td>Education Policy</td><td>The new curriculum is helpful for students.</td></tr><tr><td>Education Policy</td><td>Too much syllabus for one semester.</td></tr><tr><td>Education Policy</td><td>The digital learning approach is innovative.</td></tr><tr><td>Education Policy</td><td>Teachers need more training on the new system.</td></tr><tr><td>Education Policy</td><td>Online classes are well-organized.</td></tr><tr><td>Transport Policy</td><td>Bus timings are inconsistent and late.</td></tr><tr><td>Transport Policy</td><td>Metro connectivity has improved travel time.</td></tr><tr><td>Transport Policy</td><td>Road conditions are poor even after repairs.</td></tr><tr><td>Transport Policy</td><td>Traffic management has become better lately.</td></tr><tr><td>Transport Policy</td><td>More parking spaces are required.</td></tr><tr><td>Health Policy</td><td>Hospitals are cleaner and more efficient now.</td></tr><tr><td>Health Policy</td><td>Waiting times in government hospitals are too long.</td></tr><tr><td>Health Policy</td><td>Free medicines program is very useful.</td></tr><tr><td>Health Policy</td><td>Doctors are not available on weekends.</td></tr><tr><td>Health Policy</td><td>Healthcare centers lack proper facilities.</td></tr><tr><td>Smart City</td><td>Streetlights are functioning properly now.</td></tr><tr><td>Smart City</td><td>Garbage collection has improved.</td></tr><tr><td>Smart City</td><td>Noise pollution has not reduced at all.</td></tr><tr><td>Smart City</td><td>Wi-Fi in public areas is a good initiative.</td></tr><tr><td>Smart City</td><td>Traffic sensors are often malfunctioning.</td></tr><tr><td>Digital India</td><td>Online services are easy to access now.</td></tr><tr><td>Digital India</td><td>Many government websites are still slow.</td></tr><tr><td>Digital India</td><td>E-payments have made life easier.</td></tr><tr><td>Digital India</td><td>Rural areas still lack stable internet.</td></tr><tr><td>Digital India</td><td>Government apps crash frequently.</td></tr><tr><td>Tax Reform</td><td>Tax filing process is smoother now.</td></tr><tr><td>Tax Reform</td><td>Still too many steps for small taxpayers.</td></tr><tr><td>Tax Reform</td><td>Refund process has improved a lot.</td></tr><tr><td>Tax Reform</td><td>Website crashes during deadline week.</td></tr><tr><td>Tax Reform</td><td>Income tax app is very useful.</td></tr><tr><td>Employment Scheme</td><td>Job application portal is user-friendly.</td></tr><tr><td>Employment Scheme</td><td>Not enough job postings for graduates.</td></tr><tr><td>Employment Scheme</td><td>The process of verification is slow.</td></tr><tr><td>Employment Scheme</td><td>Got job offer through the new program.</td></tr><tr><td>Employment Scheme</td><td>Unemployment benefits are too low.</td></tr><tr><td>Housing Policy</td><td>Affordable housing plan is impressive.</td></tr><tr><td>Housing Policy</td><td>Construction delays are frustrating.</td></tr><tr><td>Housing Policy</td><td>Flats are smaller than expected.</td></tr><tr><td>Housing Policy</td><td>Transparency in allocation has improved.</td></tr><tr><td>Housing Policy</td><td>Need more houses in rural areas.</td></tr><tr><td>Water Management</td><td>Water supply is regular and clean.</td></tr><tr><td>Water Management</td><td>Frequent water cuts in the evening.</td></tr><tr><td>Water Management</td><td>Rainwater harvesting awareness has grown.</td></tr><tr><td>Water Management</td><td>Pipelines are leaking in some areas.</td></tr><tr><td>Water Management</td><td>Water conservation campaigns are working.</td></tr><tr><td>Tourism Policy</td><td>Tourist spots have better security now.</td></tr><tr><td>Tourism Policy</td><td>Entry fees for locals are too high.</td></tr><tr><td>Tourism Policy</td><td>Cleanliness at monuments has improved.</td></tr><tr><td>Tourism Policy</td><td>Need better transport to tourist sites.</td></tr><tr><td>Tourism Policy</td><td>Local guides are very helpful and polite.</td></tr></tbody></table></div>"
      ]
     },
     "metadata": {
      "application/vnd.databricks.v1+output": {
       "addedWidgets": {},
       "aggData": [],
       "aggError": "",
       "aggOverflow": false,
       "aggSchema": [],
       "aggSeriesLimitReached": false,
       "aggType": "",
       "arguments": {},
       "columnCustomDisplayInfos": {},
       "data": [
        [
         "Education Policy",
         "The new curriculum is helpful for students."
        ],
        [
         "Education Policy",
         "Too much syllabus for one semester."
        ],
        [
         "Education Policy",
         "The digital learning approach is innovative."
        ],
        [
         "Education Policy",
         "Teachers need more training on the new system."
        ],
        [
         "Education Policy",
         "Online classes are well-organized."
        ],
        [
         "Transport Policy",
         "Bus timings are inconsistent and late."
        ],
        [
         "Transport Policy",
         "Metro connectivity has improved travel time."
        ],
        [
         "Transport Policy",
         "Road conditions are poor even after repairs."
        ],
        [
         "Transport Policy",
         "Traffic management has become better lately."
        ],
        [
         "Transport Policy",
         "More parking spaces are required."
        ],
        [
         "Health Policy",
         "Hospitals are cleaner and more efficient now."
        ],
        [
         "Health Policy",
         "Waiting times in government hospitals are too long."
        ],
        [
         "Health Policy",
         "Free medicines program is very useful."
        ],
        [
         "Health Policy",
         "Doctors are not available on weekends."
        ],
        [
         "Health Policy",
         "Healthcare centers lack proper facilities."
        ],
        [
         "Smart City",
         "Streetlights are functioning properly now."
        ],
        [
         "Smart City",
         "Garbage collection has improved."
        ],
        [
         "Smart City",
         "Noise pollution has not reduced at all."
        ],
        [
         "Smart City",
         "Wi-Fi in public areas is a good initiative."
        ],
        [
         "Smart City",
         "Traffic sensors are often malfunctioning."
        ],
        [
         "Digital India",
         "Online services are easy to access now."
        ],
        [
         "Digital India",
         "Many government websites are still slow."
        ],
        [
         "Digital India",
         "E-payments have made life easier."
        ],
        [
         "Digital India",
         "Rural areas still lack stable internet."
        ],
        [
         "Digital India",
         "Government apps crash frequently."
        ],
        [
         "Tax Reform",
         "Tax filing process is smoother now."
        ],
        [
         "Tax Reform",
         "Still too many steps for small taxpayers."
        ],
        [
         "Tax Reform",
         "Refund process has improved a lot."
        ],
        [
         "Tax Reform",
         "Website crashes during deadline week."
        ],
        [
         "Tax Reform",
         "Income tax app is very useful."
        ],
        [
         "Employment Scheme",
         "Job application portal is user-friendly."
        ],
        [
         "Employment Scheme",
         "Not enough job postings for graduates."
        ],
        [
         "Employment Scheme",
         "The process of verification is slow."
        ],
        [
         "Employment Scheme",
         "Got job offer through the new program."
        ],
        [
         "Employment Scheme",
         "Unemployment benefits are too low."
        ],
        [
         "Housing Policy",
         "Affordable housing plan is impressive."
        ],
        [
         "Housing Policy",
         "Construction delays are frustrating."
        ],
        [
         "Housing Policy",
         "Flats are smaller than expected."
        ],
        [
         "Housing Policy",
         "Transparency in allocation has improved."
        ],
        [
         "Housing Policy",
         "Need more houses in rural areas."
        ],
        [
         "Water Management",
         "Water supply is regular and clean."
        ],
        [
         "Water Management",
         "Frequent water cuts in the evening."
        ],
        [
         "Water Management",
         "Rainwater harvesting awareness has grown."
        ],
        [
         "Water Management",
         "Pipelines are leaking in some areas."
        ],
        [
         "Water Management",
         "Water conservation campaigns are working."
        ],
        [
         "Tourism Policy",
         "Tourist spots have better security now."
        ],
        [
         "Tourism Policy",
         "Entry fees for locals are too high."
        ],
        [
         "Tourism Policy",
         "Cleanliness at monuments has improved."
        ],
        [
         "Tourism Policy",
         "Need better transport to tourist sites."
        ],
        [
         "Tourism Policy",
         "Local guides are very helpful and polite."
        ]
       ],
       "datasetInfos": [],
       "dbfsResultPath": null,
       "isJsonSchema": true,
       "metadata": {},
       "overflow": false,
       "plotOptions": {
        "customPlotOptions": {},
        "displayType": "table",
        "pivotAggregation": null,
        "pivotColumns": null,
        "xColumns": null,
        "yColumns": null
       },
       "removedWidgets": [],
       "schema": [
        {
         "metadata": "{}",
         "name": "policy_name",
         "type": "\"string\""
        },
        {
         "metadata": "{}",
         "name": "feedback",
         "type": "\"string\""
        }
       ],
       "type": "table"
      }
     },
     "output_type": "display_data"
    }
   ],
   "source": [
    "# Read the SQL table into a PySpark DataFrame\n",
    "df = spark.table(\n",
    "    \"workspace.project.citizen_feedback\"\n",
    ")\n",
    "# Display the DataFrame to confirm it's loaded\n",
    "display(df)"
   ]
  },
  {
   "cell_type": "code",
   "execution_count": 0,
   "metadata": {
    "application/vnd.databricks.v1+cell": {
     "cellMetadata": {
      "byteLimit": 2048000,
      "rowLimit": 10000
     },
     "inputWidgets": {},
     "nuid": "392527a6-41c4-4c5f-8910-1c5b422811aa",
     "showTitle": false,
     "tableResultSettingsMap": {},
     "title": ""
    }
   },
   "outputs": [
    {
     "output_type": "stream",
     "name": "stdout",
     "output_type": "stream",
     "text": [
      "Requirement already satisfied: textblob in /local_disk0/.ephemeral_nfs/envs/pythonEnv-4880d9aa-f83d-4f66-932c-a6ee47d729b8/lib/python3.11/site-packages (0.19.0)\nRequirement already satisfied: nltk>=3.9 in /local_disk0/.ephemeral_nfs/envs/pythonEnv-4880d9aa-f83d-4f66-932c-a6ee47d729b8/lib/python3.11/site-packages (from textblob) (3.9.2)\nRequirement already satisfied: click in /databricks/python3/lib/python3.11/site-packages (from nltk>=3.9->textblob) (8.0.4)\nRequirement already satisfied: joblib in /databricks/python3/lib/python3.11/site-packages (from nltk>=3.9->textblob) (1.2.0)\nRequirement already satisfied: regex>=2021.8.3 in /local_disk0/.ephemeral_nfs/envs/pythonEnv-4880d9aa-f83d-4f66-932c-a6ee47d729b8/lib/python3.11/site-packages (from nltk>=3.9->textblob) (2025.9.18)\nRequirement already satisfied: tqdm in /local_disk0/.ephemeral_nfs/envs/pythonEnv-4880d9aa-f83d-4f66-932c-a6ee47d729b8/lib/python3.11/site-packages (from nltk>=3.9->textblob) (4.67.1)\n\u001B[43mNote: you may need to restart the kernel using %restart_python or dbutils.library.restartPython() to use updated packages.\u001B[0m\n"
     ]
    },
    {
     "output_type": "display_data",
     "data": {
      "text/html": [
       "<style scoped>\n",
       "  .table-result-container {\n",
       "    max-height: 300px;\n",
       "    overflow: auto;\n",
       "  }\n",
       "  table, th, td {\n",
       "    border: 1px solid black;\n",
       "    border-collapse: collapse;\n",
       "  }\n",
       "  th, td {\n",
       "    padding: 5px;\n",
       "  }\n",
       "  th {\n",
       "    text-align: left;\n",
       "  }\n",
       "</style><div class='table-result-container'><table class='table-result'><thead style='background-color: white'><tr><th>policy_name</th><th>feedback</th><th>sentiment</th></tr></thead><tbody><tr><td>Education Policy</td><td>The new curriculum is helpful for students.</td><td>Positive</td></tr><tr><td>Education Policy</td><td>Too much syllabus for one semester.</td><td>Positive</td></tr><tr><td>Education Policy</td><td>The digital learning approach is innovative.</td><td>Positive</td></tr><tr><td>Education Policy</td><td>Teachers need more training on the new system.</td><td>Positive</td></tr><tr><td>Education Policy</td><td>Online classes are well-organized.</td><td>Neutral</td></tr><tr><td>Transport Policy</td><td>Bus timings are inconsistent and late.</td><td>Negative</td></tr><tr><td>Transport Policy</td><td>Metro connectivity has improved travel time.</td><td>Neutral</td></tr><tr><td>Transport Policy</td><td>Road conditions are poor even after repairs.</td><td>Negative</td></tr><tr><td>Transport Policy</td><td>Traffic management has become better lately.</td><td>Positive</td></tr><tr><td>Transport Policy</td><td>More parking spaces are required.</td><td>Positive</td></tr><tr><td>Health Policy</td><td>Hospitals are cleaner and more efficient now.</td><td>Positive</td></tr><tr><td>Health Policy</td><td>Waiting times in government hospitals are too long.</td><td>Negative</td></tr><tr><td>Health Policy</td><td>Free medicines program is very useful.</td><td>Positive</td></tr><tr><td>Health Policy</td><td>Doctors are not available on weekends.</td><td>Negative</td></tr><tr><td>Health Policy</td><td>Healthcare centers lack proper facilities.</td><td>Neutral</td></tr><tr><td>Smart City</td><td>Streetlights are functioning properly now.</td><td>Neutral</td></tr><tr><td>Smart City</td><td>Garbage collection has improved.</td><td>Neutral</td></tr><tr><td>Smart City</td><td>Noise pollution has not reduced at all.</td><td>Neutral</td></tr><tr><td>Smart City</td><td>Wi-Fi in public areas is a good initiative.</td><td>Positive</td></tr><tr><td>Smart City</td><td>Traffic sensors are often malfunctioning.</td><td>Neutral</td></tr><tr><td>Digital India</td><td>Online services are easy to access now.</td><td>Positive</td></tr><tr><td>Digital India</td><td>Many government websites are still slow.</td><td>Positive</td></tr><tr><td>Digital India</td><td>E-payments have made life easier.</td><td>Neutral</td></tr><tr><td>Digital India</td><td>Rural areas still lack stable internet.</td><td>Neutral</td></tr><tr><td>Digital India</td><td>Government apps crash frequently.</td><td>Positive</td></tr><tr><td>Tax Reform</td><td>Tax filing process is smoother now.</td><td>Neutral</td></tr><tr><td>Tax Reform</td><td>Still too many steps for small taxpayers.</td><td>Positive</td></tr><tr><td>Tax Reform</td><td>Refund process has improved a lot.</td><td>Neutral</td></tr><tr><td>Tax Reform</td><td>Website crashes during deadline week.</td><td>Neutral</td></tr><tr><td>Tax Reform</td><td>Income tax app is very useful.</td><td>Positive</td></tr><tr><td>Employment Scheme</td><td>Job application portal is user-friendly.</td><td>Neutral</td></tr><tr><td>Employment Scheme</td><td>Not enough job postings for graduates.</td><td>Neutral</td></tr><tr><td>Employment Scheme</td><td>The process of verification is slow.</td><td>Negative</td></tr><tr><td>Employment Scheme</td><td>Got job offer through the new program.</td><td>Positive</td></tr><tr><td>Employment Scheme</td><td>Unemployment benefits are too low.</td><td>Neutral</td></tr><tr><td>Housing Policy</td><td>Affordable housing plan is impressive.</td><td>Positive</td></tr><tr><td>Housing Policy</td><td>Construction delays are frustrating.</td><td>Negative</td></tr><tr><td>Housing Policy</td><td>Flats are smaller than expected.</td><td>Negative</td></tr><tr><td>Housing Policy</td><td>Transparency in allocation has improved.</td><td>Neutral</td></tr><tr><td>Housing Policy</td><td>Need more houses in rural areas.</td><td>Positive</td></tr><tr><td>Water Management</td><td>Water supply is regular and clean.</td><td>Positive</td></tr><tr><td>Water Management</td><td>Frequent water cuts in the evening.</td><td>Positive</td></tr><tr><td>Water Management</td><td>Rainwater harvesting awareness has grown.</td><td>Neutral</td></tr><tr><td>Water Management</td><td>Pipelines are leaking in some areas.</td><td>Neutral</td></tr><tr><td>Water Management</td><td>Water conservation campaigns are working.</td><td>Neutral</td></tr><tr><td>Tourism Policy</td><td>Tourist spots have better security now.</td><td>Positive</td></tr><tr><td>Tourism Policy</td><td>Entry fees for locals are too high.</td><td>Positive</td></tr><tr><td>Tourism Policy</td><td>Cleanliness at monuments has improved.</td><td>Neutral</td></tr><tr><td>Tourism Policy</td><td>Need better transport to tourist sites.</td><td>Positive</td></tr><tr><td>Tourism Policy</td><td>Local guides are very helpful and polite.</td><td>Positive</td></tr></tbody></table></div>"
      ]
     },
     "metadata": {
      "application/vnd.databricks.v1+output": {
       "addedWidgets": {},
       "aggData": [],
       "aggError": "",
       "aggOverflow": false,
       "aggSchema": [],
       "aggSeriesLimitReached": false,
       "aggType": "",
       "arguments": {},
       "columnCustomDisplayInfos": {},
       "data": [
        [
         "Education Policy",
         "The new curriculum is helpful for students.",
         "Positive"
        ],
        [
         "Education Policy",
         "Too much syllabus for one semester.",
         "Positive"
        ],
        [
         "Education Policy",
         "The digital learning approach is innovative.",
         "Positive"
        ],
        [
         "Education Policy",
         "Teachers need more training on the new system.",
         "Positive"
        ],
        [
         "Education Policy",
         "Online classes are well-organized.",
         "Neutral"
        ],
        [
         "Transport Policy",
         "Bus timings are inconsistent and late.",
         "Negative"
        ],
        [
         "Transport Policy",
         "Metro connectivity has improved travel time.",
         "Neutral"
        ],
        [
         "Transport Policy",
         "Road conditions are poor even after repairs.",
         "Negative"
        ],
        [
         "Transport Policy",
         "Traffic management has become better lately.",
         "Positive"
        ],
        [
         "Transport Policy",
         "More parking spaces are required.",
         "Positive"
        ],
        [
         "Health Policy",
         "Hospitals are cleaner and more efficient now.",
         "Positive"
        ],
        [
         "Health Policy",
         "Waiting times in government hospitals are too long.",
         "Negative"
        ],
        [
         "Health Policy",
         "Free medicines program is very useful.",
         "Positive"
        ],
        [
         "Health Policy",
         "Doctors are not available on weekends.",
         "Negative"
        ],
        [
         "Health Policy",
         "Healthcare centers lack proper facilities.",
         "Neutral"
        ],
        [
         "Smart City",
         "Streetlights are functioning properly now.",
         "Neutral"
        ],
        [
         "Smart City",
         "Garbage collection has improved.",
         "Neutral"
        ],
        [
         "Smart City",
         "Noise pollution has not reduced at all.",
         "Neutral"
        ],
        [
         "Smart City",
         "Wi-Fi in public areas is a good initiative.",
         "Positive"
        ],
        [
         "Smart City",
         "Traffic sensors are often malfunctioning.",
         "Neutral"
        ],
        [
         "Digital India",
         "Online services are easy to access now.",
         "Positive"
        ],
        [
         "Digital India",
         "Many government websites are still slow.",
         "Positive"
        ],
        [
         "Digital India",
         "E-payments have made life easier.",
         "Neutral"
        ],
        [
         "Digital India",
         "Rural areas still lack stable internet.",
         "Neutral"
        ],
        [
         "Digital India",
         "Government apps crash frequently.",
         "Positive"
        ],
        [
         "Tax Reform",
         "Tax filing process is smoother now.",
         "Neutral"
        ],
        [
         "Tax Reform",
         "Still too many steps for small taxpayers.",
         "Positive"
        ],
        [
         "Tax Reform",
         "Refund process has improved a lot.",
         "Neutral"
        ],
        [
         "Tax Reform",
         "Website crashes during deadline week.",
         "Neutral"
        ],
        [
         "Tax Reform",
         "Income tax app is very useful.",
         "Positive"
        ],
        [
         "Employment Scheme",
         "Job application portal is user-friendly.",
         "Neutral"
        ],
        [
         "Employment Scheme",
         "Not enough job postings for graduates.",
         "Neutral"
        ],
        [
         "Employment Scheme",
         "The process of verification is slow.",
         "Negative"
        ],
        [
         "Employment Scheme",
         "Got job offer through the new program.",
         "Positive"
        ],
        [
         "Employment Scheme",
         "Unemployment benefits are too low.",
         "Neutral"
        ],
        [
         "Housing Policy",
         "Affordable housing plan is impressive.",
         "Positive"
        ],
        [
         "Housing Policy",
         "Construction delays are frustrating.",
         "Negative"
        ],
        [
         "Housing Policy",
         "Flats are smaller than expected.",
         "Negative"
        ],
        [
         "Housing Policy",
         "Transparency in allocation has improved.",
         "Neutral"
        ],
        [
         "Housing Policy",
         "Need more houses in rural areas.",
         "Positive"
        ],
        [
         "Water Management",
         "Water supply is regular and clean.",
         "Positive"
        ],
        [
         "Water Management",
         "Frequent water cuts in the evening.",
         "Positive"
        ],
        [
         "Water Management",
         "Rainwater harvesting awareness has grown.",
         "Neutral"
        ],
        [
         "Water Management",
         "Pipelines are leaking in some areas.",
         "Neutral"
        ],
        [
         "Water Management",
         "Water conservation campaigns are working.",
         "Neutral"
        ],
        [
         "Tourism Policy",
         "Tourist spots have better security now.",
         "Positive"
        ],
        [
         "Tourism Policy",
         "Entry fees for locals are too high.",
         "Positive"
        ],
        [
         "Tourism Policy",
         "Cleanliness at monuments has improved.",
         "Neutral"
        ],
        [
         "Tourism Policy",
         "Need better transport to tourist sites.",
         "Positive"
        ],
        [
         "Tourism Policy",
         "Local guides are very helpful and polite.",
         "Positive"
        ]
       ],
       "datasetInfos": [],
       "dbfsResultPath": null,
       "isJsonSchema": true,
       "metadata": {},
       "overflow": false,
       "plotOptions": {
        "customPlotOptions": {},
        "displayType": "table",
        "pivotAggregation": null,
        "pivotColumns": null,
        "xColumns": null,
        "yColumns": null
       },
       "removedWidgets": [],
       "schema": [
        {
         "metadata": "{}",
         "name": "policy_name",
         "type": "\"string\""
        },
        {
         "metadata": "{}",
         "name": "feedback",
         "type": "\"string\""
        },
        {
         "metadata": "{}",
         "name": "sentiment",
         "type": "\"string\""
        }
       ],
       "type": "table"
      }
     },
     "output_type": "display_data"
    }
   ],
   "source": [
    "%pip install textblob\n",
    "from textblob import TextBlob\n",
    "from pyspark.sql.functions import udf, col\n",
    "from pyspark.sql.types import StringType\n",
    "\n",
    "# Assuming your feedback column is named 'feedback'\n",
    "# If it's different, change 'feedback' in the line below\n",
    "text_col = 'feedback'\n",
    "\n",
    "# Define a function to get sentiment label\n",
    "def get_sentiment_label(text):\n",
    "    if text is None:\n",
    "        return \"Invalid\"\n",
    "    polarity = TextBlob(text).sentiment.polarity\n",
    "    if polarity > 0:\n",
    "        return \"Positive\"\n",
    "    elif polarity < 0:\n",
    "        return \"Negative\"\n",
    "    else:\n",
    "        return \"Neutral\"\n",
    "\n",
    "# Register the Python function as a UDF\n",
    "sentiment_udf = udf(get_sentiment_label, StringType())\n",
    "\n",
    "# Apply the UDF to your DataFrame to create a new 'sentiment' column\n",
    "df_with_sentiment = df.withColumn(\n",
    "    \"sentiment\", \n",
    "    sentiment_udf(col(text_col))\n",
    ")\n",
    "\n",
    "# Display the DataFrame with the new sentiment column\n",
    "display(df_with_sentiment)"
   ]
  },
  {
   "cell_type": "code",
   "execution_count": 0,
   "metadata": {
    "application/vnd.databricks.v1+cell": {
     "cellMetadata": {
      "byteLimit": 2048000,
      "rowLimit": 10000
     },
     "inputWidgets": {},
     "nuid": "055d3de0-78ae-4078-a84e-d52528eba0de",
     "showTitle": false,
     "tableResultSettingsMap": {},
     "title": ""
    }
   },
   "outputs": [
    {
     "output_type": "display_data",
     "data": {
      "text/html": [
       "<style scoped>\n",
       "  .table-result-container {\n",
       "    max-height: 300px;\n",
       "    overflow: auto;\n",
       "  }\n",
       "  table, th, td {\n",
       "    border: 1px solid black;\n",
       "    border-collapse: collapse;\n",
       "  }\n",
       "  th, td {\n",
       "    padding: 5px;\n",
       "  }\n",
       "  th {\n",
       "    text-align: left;\n",
       "  }\n",
       "</style><div class='table-result-container'><table class='table-result'><thead style='background-color: white'><tr><th>sentiment</th><th>count</th></tr></thead><tbody><tr><td>Neutral</td><td>20</td></tr><tr><td>Negative</td><td>7</td></tr><tr><td>Positive</td><td>23</td></tr></tbody></table></div>"
      ]
     },
     "metadata": {
      "application/vnd.databricks.v1+output": {
       "addedWidgets": {},
       "aggData": [],
       "aggError": "",
       "aggOverflow": false,
       "aggSchema": [],
       "aggSeriesLimitReached": false,
       "aggType": "",
       "arguments": {},
       "columnCustomDisplayInfos": {},
       "data": [
        [
         "Neutral",
         20
        ],
        [
         "Negative",
         7
        ],
        [
         "Positive",
         23
        ]
       ],
       "datasetInfos": [],
       "dbfsResultPath": null,
       "isJsonSchema": true,
       "metadata": {},
       "overflow": false,
       "plotOptions": {
        "customPlotOptions": {},
        "displayType": "table",
        "pivotAggregation": null,
        "pivotColumns": null,
        "xColumns": null,
        "yColumns": null
       },
       "removedWidgets": [],
       "schema": [
        {
         "metadata": "{}",
         "name": "sentiment",
         "type": "\"string\""
        },
        {
         "metadata": "{}",
         "name": "count",
         "type": "\"long\""
        }
       ],
       "type": "table"
      }
     },
     "output_type": "display_data"
    }
   ],
   "source": [
    "# Group the data by sentiment and count the occurrences\n",
    "sentiment_counts = df_with_sentiment.groupBy(\"sentiment\").count()\n",
    "\n",
    "# Display the summary table\n",
    "display(sentiment_counts)"
   ]
  },
  {
   "cell_type": "code",
   "execution_count": 0,
   "metadata": {
    "application/vnd.databricks.v1+cell": {
     "cellMetadata": {
      "byteLimit": 2048000,
      "rowLimit": 10000
     },
     "inputWidgets": {},
     "nuid": "d77e4c34-299a-4a54-9cb1-78aaefbb6ef2",
     "showTitle": false,
     "tableResultSettingsMap": {},
     "title": ""
    }
   },
   "outputs": [
    {
     "output_type": "display_data",
     "data": {
      "image/png": "[encoded data removed]",
      "text/plain": [
       "<Figure size 1000x700 with 1 Axes>"
      ]
     },
     "metadata": {},
     "output_type": "display_data"
    },
    {
     "output_type": "display_data",
     "data": {
      "image/png": "[encoded data removed]",
      "text/plain": [
       "<Figure size 1000x700 with 1 Axes>"
      ]
     },
     "metadata": {},
     "output_type": "display_data"
    }
   ],
   "source": [
    "import matplotlib.pyplot as plt\n",
    "import seaborn as sns\n",
    "import pandas as pd\n",
    "\n",
    "# Convert your 'sentiment_counts' PySpark DataFrame to a Pandas DataFrame for plotting\n",
    "sentiment_counts_pd = sentiment_counts.toPandas()\n",
    "\n",
    "# Create the bar plot\n",
    "plt.figure(figsize=(10, 7))\n",
    "ax = sns.barplot(\n",
    "    x='sentiment',\n",
    "    y='count',\n",
    "    data=sentiment_counts_pd,\n",
    "    order=['Positive', 'Neutral', 'Negative'], # Specify order for consistency\n",
    "    palette={'Positive': '#2ca02c', 'Negative': '#d62728', 'Neutral': '#8c564b'}\n",
    ")\n",
    "\n",
    "# Add titles and labels for clarity\n",
    "plt.title('Overall Sentiment of Citizen Feedback', fontsize=16)\n",
    "plt.xlabel('Sentiment', fontsize=12)\n",
    "plt.ylabel('Number of Comments', fontsize=12)\n",
    "ax.spines['top'].set_visible(False)\n",
    "ax.spines['right'].set_visible(False)\n",
    "\n",
    "# Add count labels on top of the bars\n",
    "for p in ax.patches:\n",
    "    ax.annotate(f'{int(p.get_height())}',\n",
    "                (p.get_x() + p.get_width() / 2., p.get_height()),\n",
    "                ha='center', va='center',\n",
    "                fontsize=12,\n",
    "                color='black',\n",
    "                xytext=(0, 8),\n",
    "                textcoords='offset points')\n",
    "\n"
   ]
  },
  {
   "cell_type": "code",
   "execution_count": 0,
   "metadata": {
    "application/vnd.databricks.v1+cell": {
     "cellMetadata": {
      "byteLimit": 2048000,
      "rowLimit": 10000
     },
     "inputWidgets": {},
     "nuid": "9de0586e-f35d-4f52-9cd2-41324dc3e78e",
     "showTitle": false,
     "tableResultSettingsMap": {},
     "title": ""
    }
   },
   "outputs": [
    {
     "output_type": "display_data",
     "data": {
      "text/plain": [
       "Enter your feedback:  the policy is good"
      ]
     },
     "metadata": {},
     "output_type": "display_data"
    },
    {
     "output_type": "stream",
     "name": "stdout",
     "output_type": "stream",
     "text": [
      "Sentiment: Positive\n"
     ]
    }
   ],
   "source": [
    "user_text = input(\"Enter your feedback: \")\n",
    "sentiment_result = get_sentiment_label(user_text)\n",
    "print(f\"Sentiment: {sentiment_result}\")"
   ]
  },
  {
   "cell_type": "code",
   "execution_count": 0,
   "metadata": {
    "application/vnd.databricks.v1+cell": {
     "cellMetadata": {
      "byteLimit": 2048000,
      "rowLimit": 10000
     },
     "inputWidgets": {},
     "nuid": "a6e38125-d8c6-4231-a6b8-d8b395e0b1b2",
     "showTitle": false,
     "tableResultSettingsMap": {},
     "title": ""
    }
   },
   "outputs": [
    {
     "output_type": "display_data",
     "data": {
      "text/plain": [
       "Enter your feedback:  this is a very worst experience i ever had"
      ]
     },
     "metadata": {},
     "output_type": "display_data"
    },
    {
     "output_type": "stream",
     "name": "stdout",
     "output_type": "stream",
     "text": [
      "Sentiment: Negative\n"
     ]
    }
   ],
   "source": [
    "user_text = input(\"Enter your feedback: \")\n",
    "sentiment_result = get_sentiment_label(user_text)\n",
    "print(f\"Sentiment: {sentiment_result}\")"
   ]
  },
  {
   "cell_type": "code",
   "execution_count": 0,
   "metadata": {
    "application/vnd.databricks.v1+cell": {
     "cellMetadata": {
      "byteLimit": 2048000,
      "rowLimit": 10000
     },
     "inputWidgets": {},
     "nuid": "33571236-7f48-4391-92e7-39dfc547f1d3",
     "showTitle": false,
     "tableResultSettingsMap": {},
     "title": ""
    }
   },
   "outputs": [
    {
     "output_type": "display_data",
     "data": {
      "text/plain": [
       "Enter your feedback:  its not either good or bad"
      ]
     },
     "metadata": {},
     "output_type": "display_data"
    },
    {
     "output_type": "stream",
     "name": "stdout",
     "output_type": "stream",
     "text": [
      "\nDetected Sentiment: Positive\n\n✅ New feedback added successfully to table 'citizen_feedback'\n"
     ]
    },
    {
     "output_type": "display_data",
     "data": {
      "text/html": [
       "<style scoped>\n",
       "  .table-result-container {\n",
       "    max-height: 300px;\n",
       "    overflow: auto;\n",
       "  }\n",
       "  table, th, td {\n",
       "    border: 1px solid black;\n",
       "    border-collapse: collapse;\n",
       "  }\n",
       "  th, td {\n",
       "    padding: 5px;\n",
       "  }\n",
       "  th {\n",
       "    text-align: left;\n",
       "  }\n",
       "</style><div class='table-result-container'><table class='table-result'><thead style='background-color: white'><tr><th>policy_name</th><th>feedback</th><th>sentiment</th></tr></thead><tbody><tr><td>policy</td><td>its not either good or bad</td><td>Positive</td></tr><tr><td>policy</td><td>the policy is good</td><td>Positive</td></tr></tbody></table></div>"
      ]
     },
     "metadata": {
      "application/vnd.databricks.v1+output": {
       "addedWidgets": {},
       "aggData": [],
       "aggError": "",
       "aggOverflow": false,
       "aggSchema": [],
       "aggSeriesLimitReached": false,
       "aggType": "",
       "arguments": {},
       "columnCustomDisplayInfos": {},
       "data": [
        [
         "policy",
         "its not either good or bad",
         "Positive"
        ],
        [
         "policy",
         "the policy is good",
         "Positive"
        ]
       ],
       "datasetInfos": [],
       "dbfsResultPath": null,
       "isJsonSchema": true,
       "metadata": {},
       "overflow": false,
       "plotOptions": {
        "customPlotOptions": {},
        "displayType": "table",
        "pivotAggregation": null,
        "pivotColumns": null,
        "xColumns": null,
        "yColumns": null
       },
       "removedWidgets": [],
       "schema": [
        {
         "metadata": "{}",
         "name": "policy_name",
         "type": "\"string\""
        },
        {
         "metadata": "{}",
         "name": "feedback",
         "type": "\"string\""
        },
        {
         "metadata": "{}",
         "name": "sentiment",
         "type": "\"string\""
        }
       ],
       "type": "table"
      }
     },
     "output_type": "display_data"
    }
   ],
   "source": [
    "def analyze_and_save():\n",
    "    user_text = input(\"Enter your feedback: \")\n",
    "    sentiment = get_sentiment_label(user_text)\n",
    "    print(f\"\\nDetected Sentiment: {sentiment}\")\n",
    "# === Step 4: Create a DataFrame with this single new entry ===\n",
    "    new_data = [('policy',user_text, sentiment)]\n",
    "    new_df = spark.createDataFrame(new_data, [\"policy_name\",\"feedback\", \"sentiment\"])\n",
    "# === Step 5: Append this new row to your existing Spark table ===\n",
    "# ⚠️ Replace 'your_existing_table_name' with your actual table name\n",
    "    table_name = \"citizen_feedback\"\n",
    "    new_df.write.mode(\"append\").saveAsTable(table_name)\n",
    "    print(f\"\\n✅ New feedback added successfully to table '{table_name}'\")\n",
    "# === Step 6: Show updated table ===\n",
    "    display(spark.table(table_name))\n",
    "analyze_and_save()"
   ]
  },
  {
   "cell_type": "code",
   "execution_count": 0,
   "metadata": {
    "application/vnd.databricks.v1+cell": {
     "cellMetadata": {
      "byteLimit": 2048000,
      "rowLimit": 10000
     },
     "inputWidgets": {},
     "nuid": "69d260e4-98f6-4c33-956c-1d595824dbda",
     "showTitle": false,
     "tableResultSettingsMap": {},
     "title": ""
    }
   },
   "outputs": [
    {
     "output_type": "display_data",
     "data": {
      "text/html": [
       "<style scoped>\n",
       "  .table-result-container {\n",
       "    max-height: 300px;\n",
       "    overflow: auto;\n",
       "  }\n",
       "  table, th, td {\n",
       "    border: 1px solid black;\n",
       "    border-collapse: collapse;\n",
       "  }\n",
       "  th, td {\n",
       "    padding: 5px;\n",
       "  }\n",
       "  th {\n",
       "    text-align: left;\n",
       "  }\n",
       "</style><div class='table-result-container'><table class='table-result'><thead style='background-color: white'><tr><th>policy_name</th><th>feedback</th></tr></thead><tbody><tr><td>Education Policy</td><td>The new curriculum is helpful for students.</td></tr><tr><td>Education Policy</td><td>Too much syllabus for one semester.</td></tr><tr><td>Education Policy</td><td>The digital learning approach is innovative.</td></tr><tr><td>Education Policy</td><td>Teachers need more training on the new system.</td></tr><tr><td>Education Policy</td><td>Online classes are well-organized.</td></tr><tr><td>Transport Policy</td><td>Bus timings are inconsistent and late.</td></tr><tr><td>Transport Policy</td><td>Metro connectivity has improved travel time.</td></tr><tr><td>Transport Policy</td><td>Road conditions are poor even after repairs.</td></tr><tr><td>Transport Policy</td><td>Traffic management has become better lately.</td></tr><tr><td>Transport Policy</td><td>More parking spaces are required.</td></tr><tr><td>Health Policy</td><td>Hospitals are cleaner and more efficient now.</td></tr><tr><td>Health Policy</td><td>Waiting times in government hospitals are too long.</td></tr><tr><td>Health Policy</td><td>Free medicines program is very useful.</td></tr><tr><td>Health Policy</td><td>Doctors are not available on weekends.</td></tr><tr><td>Health Policy</td><td>Healthcare centers lack proper facilities.</td></tr><tr><td>Smart City</td><td>Streetlights are functioning properly now.</td></tr><tr><td>Smart City</td><td>Garbage collection has improved.</td></tr><tr><td>Smart City</td><td>Noise pollution has not reduced at all.</td></tr><tr><td>Smart City</td><td>Wi-Fi in public areas is a good initiative.</td></tr><tr><td>Smart City</td><td>Traffic sensors are often malfunctioning.</td></tr><tr><td>Digital India</td><td>Online services are easy to access now.</td></tr><tr><td>Digital India</td><td>Many government websites are still slow.</td></tr><tr><td>Digital India</td><td>E-payments have made life easier.</td></tr><tr><td>Digital India</td><td>Rural areas still lack stable internet.</td></tr><tr><td>Digital India</td><td>Government apps crash frequently.</td></tr><tr><td>Tax Reform</td><td>Tax filing process is smoother now.</td></tr><tr><td>Tax Reform</td><td>Still too many steps for small taxpayers.</td></tr><tr><td>Tax Reform</td><td>Refund process has improved a lot.</td></tr><tr><td>Tax Reform</td><td>Website crashes during deadline week.</td></tr><tr><td>Tax Reform</td><td>Income tax app is very useful.</td></tr><tr><td>Employment Scheme</td><td>Job application portal is user-friendly.</td></tr><tr><td>Employment Scheme</td><td>Not enough job postings for graduates.</td></tr><tr><td>Employment Scheme</td><td>The process of verification is slow.</td></tr><tr><td>Employment Scheme</td><td>Got job offer through the new program.</td></tr><tr><td>Employment Scheme</td><td>Unemployment benefits are too low.</td></tr><tr><td>Housing Policy</td><td>Affordable housing plan is impressive.</td></tr><tr><td>Housing Policy</td><td>Construction delays are frustrating.</td></tr><tr><td>Housing Policy</td><td>Flats are smaller than expected.</td></tr><tr><td>Housing Policy</td><td>Transparency in allocation has improved.</td></tr><tr><td>Housing Policy</td><td>Need more houses in rural areas.</td></tr><tr><td>Water Management</td><td>Water supply is regular and clean.</td></tr><tr><td>Water Management</td><td>Frequent water cuts in the evening.</td></tr><tr><td>Water Management</td><td>Rainwater harvesting awareness has grown.</td></tr><tr><td>Water Management</td><td>Pipelines are leaking in some areas.</td></tr><tr><td>Water Management</td><td>Water conservation campaigns are working.</td></tr><tr><td>Tourism Policy</td><td>Tourist spots have better security now.</td></tr><tr><td>Tourism Policy</td><td>Entry fees for locals are too high.</td></tr><tr><td>Tourism Policy</td><td>Cleanliness at monuments has improved.</td></tr><tr><td>Tourism Policy</td><td>Need better transport to tourist sites.</td></tr><tr><td>Tourism Policy</td><td>Local guides are very helpful and polite.</td></tr></tbody></table></div>"
      ]
     },
     "metadata": {
      "application/vnd.databricks.v1+output": {
       "addedWidgets": {},
       "aggData": [],
       "aggError": "",
       "aggOverflow": false,
       "aggSchema": [],
       "aggSeriesLimitReached": false,
       "aggType": "",
       "arguments": {},
       "columnCustomDisplayInfos": {},
       "data": [
        [
         "Education Policy",
         "The new curriculum is helpful for students."
        ],
        [
         "Education Policy",
         "Too much syllabus for one semester."
        ],
        [
         "Education Policy",
         "The digital learning approach is innovative."
        ],
        [
         "Education Policy",
         "Teachers need more training on the new system."
        ],
        [
         "Education Policy",
         "Online classes are well-organized."
        ],
        [
         "Transport Policy",
         "Bus timings are inconsistent and late."
        ],
        [
         "Transport Policy",
         "Metro connectivity has improved travel time."
        ],
        [
         "Transport Policy",
         "Road conditions are poor even after repairs."
        ],
        [
         "Transport Policy",
         "Traffic management has become better lately."
        ],
        [
         "Transport Policy",
         "More parking spaces are required."
        ],
        [
         "Health Policy",
         "Hospitals are cleaner and more efficient now."
        ],
        [
         "Health Policy",
         "Waiting times in government hospitals are too long."
        ],
        [
         "Health Policy",
         "Free medicines program is very useful."
        ],
        [
         "Health Policy",
         "Doctors are not available on weekends."
        ],
        [
         "Health Policy",
         "Healthcare centers lack proper facilities."
        ],
        [
         "Smart City",
         "Streetlights are functioning properly now."
        ],
        [
         "Smart City",
         "Garbage collection has improved."
        ],
        [
         "Smart City",
         "Noise pollution has not reduced at all."
        ],
        [
         "Smart City",
         "Wi-Fi in public areas is a good initiative."
        ],
        [
         "Smart City",
         "Traffic sensors are often malfunctioning."
        ],
        [
         "Digital India",
         "Online services are easy to access now."
        ],
        [
         "Digital India",
         "Many government websites are still slow."
        ],
        [
         "Digital India",
         "E-payments have made life easier."
        ],
        [
         "Digital India",
         "Rural areas still lack stable internet."
        ],
        [
         "Digital India",
         "Government apps crash frequently."
        ],
        [
         "Tax Reform",
         "Tax filing process is smoother now."
        ],
        [
         "Tax Reform",
         "Still too many steps for small taxpayers."
        ],
        [
         "Tax Reform",
         "Refund process has improved a lot."
        ],
        [
         "Tax Reform",
         "Website crashes during deadline week."
        ],
        [
         "Tax Reform",
         "Income tax app is very useful."
        ],
        [
         "Employment Scheme",
         "Job application portal is user-friendly."
        ],
        [
         "Employment Scheme",
         "Not enough job postings for graduates."
        ],
        [
         "Employment Scheme",
         "The process of verification is slow."
        ],
        [
         "Employment Scheme",
         "Got job offer through the new program."
        ],
        [
         "Employment Scheme",
         "Unemployment benefits are too low."
        ],
        [
         "Housing Policy",
         "Affordable housing plan is impressive."
        ],
        [
         "Housing Policy",
         "Construction delays are frustrating."
        ],
        [
         "Housing Policy",
         "Flats are smaller than expected."
        ],
        [
         "Housing Policy",
         "Transparency in allocation has improved."
        ],
        [
         "Housing Policy",
         "Need more houses in rural areas."
        ],
        [
         "Water Management",
         "Water supply is regular and clean."
        ],
        [
         "Water Management",
         "Frequent water cuts in the evening."
        ],
        [
         "Water Management",
         "Rainwater harvesting awareness has grown."
        ],
        [
         "Water Management",
         "Pipelines are leaking in some areas."
        ],
        [
         "Water Management",
         "Water conservation campaigns are working."
        ],
        [
         "Tourism Policy",
         "Tourist spots have better security now."
        ],
        [
         "Tourism Policy",
         "Entry fees for locals are too high."
        ],
        [
         "Tourism Policy",
         "Cleanliness at monuments has improved."
        ],
        [
         "Tourism Policy",
         "Need better transport to tourist sites."
        ],
        [
         "Tourism Policy",
         "Local guides are very helpful and polite."
        ]
       ],
       "datasetInfos": [],
       "dbfsResultPath": null,
       "isJsonSchema": true,
       "metadata": {},
       "overflow": false,
       "plotOptions": {
        "customPlotOptions": {},
        "displayType": "table",
        "pivotAggregation": null,
        "pivotColumns": null,
        "xColumns": null,
        "yColumns": null
       },
       "removedWidgets": [],
       "schema": [
        {
         "metadata": "{}",
         "name": "policy_name",
         "type": "\"string\""
        },
        {
         "metadata": "{}",
         "name": "feedback",
         "type": "\"string\""
        }
       ],
       "type": "table"
      }
     },
     "output_type": "display_data"
    }
   ],
   "source": [
    "display(df)"
   ]
  },
  {
   "cell_type": "code",
   "execution_count": 0,
   "metadata": {
    "application/vnd.databricks.v1+cell": {
     "cellMetadata": {
      "byteLimit": 2048000,
      "rowLimit": 10000
     },
     "inputWidgets": {},
     "nuid": "fbd6e6c9-5c8b-4556-a80d-9b2ec748b88f",
     "showTitle": false,
     "tableResultSettingsMap": {},
     "title": ""
    }
   },
   "outputs": [
    {
     "output_type": "display_data",
     "data": {
      "text/plain": [
       "Enter your feedback:  this policy was implemented last week"
      ]
     },
     "metadata": {},
     "output_type": "display_data"
    },
    {
     "output_type": "stream",
     "name": "stdout",
     "output_type": "stream",
     "text": [
      "\nDetected Sentiment: Neutral\n\n✅ New feedback added successfully to table 'citizen_feedback'\n"
     ]
    },
    {
     "output_type": "display_data",
     "data": {
      "text/html": [
       "<style scoped>\n",
       "  .table-result-container {\n",
       "    max-height: 300px;\n",
       "    overflow: auto;\n",
       "  }\n",
       "  table, th, td {\n",
       "    border: 1px solid black;\n",
       "    border-collapse: collapse;\n",
       "  }\n",
       "  th, td {\n",
       "    padding: 5px;\n",
       "  }\n",
       "  th {\n",
       "    text-align: left;\n",
       "  }\n",
       "</style><div class='table-result-container'><table class='table-result'><thead style='background-color: white'><tr><th>policy_name</th><th>feedback</th><th>sentiment</th></tr></thead><tbody><tr><td>policy</td><td>this policy was implemented last week</td><td>Neutral</td></tr><tr><td>policy</td><td>its not either good or bad</td><td>Positive</td></tr><tr><td>policy</td><td>the policy is good</td><td>Positive</td></tr></tbody></table></div>"
      ]
     },
     "metadata": {
      "application/vnd.databricks.v1+output": {
       "addedWidgets": {},
       "aggData": [],
       "aggError": "",
       "aggOverflow": false,
       "aggSchema": [],
       "aggSeriesLimitReached": false,
       "aggType": "",
       "arguments": {},
       "columnCustomDisplayInfos": {},
       "data": [
        [
         "policy",
         "this policy was implemented last week",
         "Neutral"
        ],
        [
         "policy",
         "its not either good or bad",
         "Positive"
        ],
        [
         "policy",
         "the policy is good",
         "Positive"
        ]
       ],
       "datasetInfos": [],
       "dbfsResultPath": null,
       "isJsonSchema": true,
       "metadata": {},
       "overflow": false,
       "plotOptions": {
        "customPlotOptions": {},
        "displayType": "table",
        "pivotAggregation": null,
        "pivotColumns": null,
        "xColumns": null,
        "yColumns": null
       },
       "removedWidgets": [],
       "schema": [
        {
         "metadata": "{}",
         "name": "policy_name",
         "type": "\"string\""
        },
        {
         "metadata": "{}",
         "name": "feedback",
         "type": "\"string\""
        },
        {
         "metadata": "{}",
         "name": "sentiment",
         "type": "\"string\""
        }
       ],
       "type": "table"
      }
     },
     "output_type": "display_data"
    }
   ],
   "source": [
    "analyze_and_save()"
   ]
  },
  {
   "cell_type": "code",
   "execution_count": 0,
   "metadata": {
    "application/vnd.databricks.v1+cell": {
     "cellMetadata": {
      "byteLimit": 2048000,
      "rowLimit": 10000
     },
     "inputWidgets": {},
     "nuid": "0d1f20ae-cee6-4a4b-a092-7d6012af19ef",
     "showTitle": false,
     "tableResultSettingsMap": {},
     "title": ""
    }
   },
   "outputs": [],
   "source": []
  }
 ],
 "metadata": {
  "application/vnd.databricks.v1+notebook": {
   "computePreferences": {
    "hardware": {
     "accelerator": null,
     "gpuPoolId": null,
     "memory": null
    }
   },
   "dashboards": [],
   "environmentMetadata": null,
   "inputWidgetPreferences": null,
   "language": "python",
   "notebookMetadata": {
    "mostRecentlyExecutedCommandWithImplicitDF": {
     "commandId": 4110008069474835,
     "dataframes": [
      "_sqldf"
     ]
    },
    "pythonIndentUnit": 2
   },
   "notebookName": "Explore workspace.project.citizen_feedback 2025-10-15 22:36:05",
   "widgets": {}
  },
  "language_info": {
   "name": "python"
  }
 },
 "nbformat": 4,
 "nbformat_minor": 0
}